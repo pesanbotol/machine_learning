{
  "nbformat": 4,
  "nbformat_minor": 0,
  "metadata": {
    "colab": {
      "name": "Resize Image.ipynb",
      "provenance": [],
      "collapsed_sections": []
    },
    "kernelspec": {
      "name": "python3",
      "display_name": "Python 3"
    },
    "language_info": {
      "name": "python"
    },
    "accelerator": "GPU"
  },
  "cells": [
    {
      "cell_type": "markdown",
      "source": [
        "For faster transfer images to the Google Colab, we upload it first at Google Drive. Then we called it here."
      ],
      "metadata": {
        "id": "gb14x7z-4i1J"
      }
    },
    {
      "cell_type": "code",
      "source": [
        "from google.colab import drive\n",
        "drive.mount('/content/drive')"
      ],
      "metadata": {
        "colab": {
          "base_uri": "https://localhost:8080/"
        },
        "id": "Z_uQS0mEE617",
        "outputId": "ecb60eb2-8067-44a3-dd56-190382697610"
      },
      "execution_count": null,
      "outputs": [
        {
          "output_type": "stream",
          "name": "stdout",
          "text": [
            "Mounted at /content/drive\n"
          ]
        }
      ]
    },
    {
      "cell_type": "code",
      "source": [
        "#extract rar file\n",
        "!pip install patool\n",
        "import patoolib\n",
        "patoolib.extract_archive(\"/content/drive/MyDrive/Dataset Landmark/Salinan gambar_landmark.rar\", outdir=\"/content/\") #change the directory"
      ],
      "metadata": {
        "colab": {
          "base_uri": "https://localhost:8080/",
          "height": 209
        },
        "id": "7BjWRdeUFZX2",
        "outputId": "bed6b2ba-26e6-456f-f73d-9497f910cd84"
      },
      "execution_count": null,
      "outputs": [
        {
          "output_type": "stream",
          "name": "stdout",
          "text": [
            "Looking in indexes: https://pypi.org/simple, https://us-python.pkg.dev/colab-wheels/public/simple/\n",
            "Collecting patool\n",
            "  Downloading patool-1.12-py2.py3-none-any.whl (77 kB)\n",
            "\u001b[K     |████████████████████████████████| 77 kB 4.5 MB/s \n",
            "\u001b[?25hInstalling collected packages: patool\n",
            "Successfully installed patool-1.12\n",
            "patool: Extracting /content/drive/MyDrive/Dataset Landmark/Salinan gambar_landmark.rar ...\n",
            "patool: running /usr/bin/unrar x -- \"/content/drive/MyDrive/Dataset Landmark/Salinan gambar_landmark.rar\"\n",
            "patool:     with cwd='/content/'\n",
            "patool: ... /content/drive/MyDrive/Dataset Landmark/Salinan gambar_landmark.rar extracted to `/content/'.\n"
          ]
        },
        {
          "output_type": "execute_result",
          "data": {
            "text/plain": [
              "'/content/'"
            ],
            "application/vnd.google.colaboratory.intrinsic+json": {
              "type": "string"
            }
          },
          "metadata": {},
          "execution_count": 3
        }
      ]
    },
    {
      "cell_type": "code",
      "source": [
        "#copy directory \n",
        "import shutil\n",
        "\n",
        "src_path = \"/content/drive/MyDrive/Dataset Landmark/\"\n",
        "dst_path = \"/content/dataset\"\n",
        "shutil.copytree(src_path, dst_path)\n",
        "print('Copied')"
      ],
      "metadata": {
        "colab": {
          "base_uri": "https://localhost:8080/"
        },
        "id": "7ibwDdcGGIhx",
        "outputId": "ab3e204c-5b05-42d5-d994-bc20a19fa9f3"
      },
      "execution_count": null,
      "outputs": [
        {
          "output_type": "stream",
          "name": "stdout",
          "text": [
            "Copied\n"
          ]
        }
      ]
    },
    {
      "cell_type": "markdown",
      "source": [
        "Import for resizing"
      ],
      "metadata": {
        "id": "vS55tMZIFgFR"
      }
    },
    {
      "cell_type": "code",
      "source": [
        "!pip install pillow\n",
        "from PIL import Image\n",
        "import os\n",
        "import PIL\n",
        "import glob\n",
        "import shutil"
      ],
      "metadata": {
        "colab": {
          "base_uri": "https://localhost:8080/"
        },
        "id": "2g6oO2X4d3wV",
        "outputId": "c29be8f9-29e2-4b51-c9c5-037170223e89"
      },
      "execution_count": null,
      "outputs": [
        {
          "output_type": "stream",
          "name": "stdout",
          "text": [
            "Looking in indexes: https://pypi.org/simple, https://us-python.pkg.dev/colab-wheels/public/simple/\n",
            "Requirement already satisfied: pillow in /usr/local/lib/python3.7/dist-packages (7.1.2)\n"
          ]
        }
      ]
    },
    {
      "cell_type": "markdown",
      "source": [
        "####This Code is for Resizing Multiple Directories"
      ],
      "metadata": {
        "id": "1G2wy2wmP463"
      }
    },
    {
      "cell_type": "code",
      "source": [
        "base_path = '/content/gambar_landmark/'\n",
        "for dir in os.listdir(base_path):\n",
        "  images = [file for file in os.listdir(base_path+dir) if file.endswith(('jpeg', 'png', 'jpg'))]\n",
        "  for image in images:\n",
        "    img = Image.open(base_path+dir+'/'+image)\n",
        "    img.thumbnail((800,800))\n",
        "    if not os.path.exists('/content/resized_data/'+dir):\n",
        "      os.mkdir('/content/resized_data/'+dir)\n",
        "      \n",
        "    img.save('/content/resized_data/'+dir+'/'+image, optimize=True, quality=50)\n",
        "  "
      ],
      "metadata": {
        "colab": {
          "base_uri": "https://localhost:8080/"
        },
        "id": "rqBBZ-zrJ6Nb",
        "outputId": "b3357cee-da2b-45db-b03d-29cc282f8a8a"
      },
      "execution_count": null,
      "outputs": [
        {
          "output_type": "stream",
          "name": "stderr",
          "text": [
            "/usr/local/lib/python3.7/dist-packages/PIL/Image.py:2800: DecompressionBombWarning: Image size (89937500 pixels) exceeds limit of 89478485 pixels, could be decompression bomb DOS attack.\n",
            "  DecompressionBombWarning,\n"
          ]
        }
      ]
    },
    {
      "cell_type": "markdown",
      "source": [
        "####This Code is for Resizing Per Directory Only"
      ],
      "metadata": {
        "id": "pnBfMuuBPzd8"
      }
    },
    {
      "cell_type": "code",
      "source": [
        "dir = '/content/'\n",
        "images = [file for file in os.listdir(dir) if file.endswith(('jpeg', 'png', 'jpg'))]\n",
        "if not os.path.exists('/content/new_resized_data'):\n",
        "    os.mkdir('/content/new_resized_data')\n",
        "\n",
        "for image in images:\n",
        "  # print(dir+image)\n",
        "  img = Image.open(dir+image)\n",
        "  img.thumbnail((800,800))\n",
        "  img.save(\"/content/new_resized_data/\"+image, optimize=True, quality=50)\n",
        " \n",
        "\n",
        "print('Selesai di resize')"
      ],
      "metadata": {
        "id": "yzXczecreaAQ",
        "colab": {
          "base_uri": "https://localhost:8080/"
        },
        "outputId": "6535c064-871b-4801-e63c-8fd6efe88a13"
      },
      "execution_count": null,
      "outputs": [
        {
          "output_type": "stream",
          "name": "stdout",
          "text": [
            "Selesai di resize\n"
          ]
        }
      ]
    },
    {
      "cell_type": "markdown",
      "source": [
        "####Check Number of Files Per Directory"
      ],
      "metadata": {
        "id": "rBpNpgIkRq02"
      }
    },
    {
      "cell_type": "code",
      "source": [
        "#Cek jumlah file per directory\n",
        "import os\n",
        "\n",
        "# folder path\n",
        "dir_path = '/content/resized_data/'\n",
        "count = 0\n",
        "# Iterate directory\n",
        "for path in os.listdir(dir_path):\n",
        "  count = 0\n",
        "  files = [file for file in os.listdir(dir_path+path) if file.endswith(('jpeg', 'png', 'jpg'))]\n",
        "  # print(dir_path+path)\n",
        "  for file in files:\n",
        "    # check if current path is a file\n",
        "    # print(dir_path+path+'/'+file)\n",
        "    if os.path.isfile(os.path.join(dir_path, path, file)):\n",
        "      count += 1\n",
        "  print(path+' -- File count:', count)"
      ],
      "metadata": {
        "colab": {
          "base_uri": "https://localhost:8080/"
        },
        "id": "DSFewQ3LQojy",
        "outputId": "0365e08e-1355-4e4b-e7ea-6c9eb9aa943a"
      },
      "execution_count": null,
      "outputs": [
        {
          "output_type": "stream",
          "name": "stdout",
          "text": [
            "111096 -- File count: 126\n",
            "Pura Tanah Lot -- File count: 95\n",
            "52646 -- File count: 73\n",
            "Borobudur -- File count: 313\n",
            "73117 -- File count: 101\n",
            "92806 -- File count: 79\n",
            "111492 -- File count: 136\n",
            "Candi Sukuh -- File count: 144\n",
            "Prambanan -- File count: 159\n",
            "64976 -- File count: 182\n",
            "43984 -- File count: 76\n",
            "69463 -- File count: 196\n",
            "120269 -- File count: 72\n",
            "60870 -- File count: 118\n",
            "Semeru -- File count: 98\n",
            "Komodo National Park -- File count: 169\n",
            "Ratu Boko -- File count: 88\n",
            "111470 -- File count: 91\n",
            "75415 -- File count: 71\n",
            "48328 -- File count: 310\n",
            "28580 -- File count: 24\n",
            "48962 -- File count: 121\n",
            "Candi Panataran -- File count: 323\n",
            "47842 -- File count: 123\n",
            "Pura Besakih -- File count: 90\n",
            "74117 -- File count: 63\n",
            "125420 -- File count: 117\n"
          ]
        }
      ]
    },
    {
      "cell_type": "code",
      "source": [
        "!rm -r /content/resized_data"
      ],
      "metadata": {
        "id": "wy8vOjcyjC4v"
      },
      "execution_count": null,
      "outputs": []
    },
    {
      "cell_type": "code",
      "source": [
        "#ubah ke zip untuk download bulk\n",
        "!zip -r new_resized_data.zip new_resized_data"
      ],
      "metadata": {
        "colab": {
          "base_uri": "https://localhost:8080/"
        },
        "id": "18-3r9PLff_X",
        "outputId": "da66a535-3655-4025-f3f6-c1019d44105e"
      },
      "execution_count": null,
      "outputs": [
        {
          "output_type": "stream",
          "name": "stdout",
          "text": [
            "  adding: new_resized_data/ (stored 0%)\n",
            "  adding: new_resized_data/Pelinggih-Meru-Pura-Besakih-1280x853.jpg (deflated 2%)\n",
            "  adding: new_resized_data/Besakih_Bali_Indonesia_Pura-Besakih-02.jpg (deflated 2%)\n",
            "  adding: new_resized_data/Pura-Besakih-Karangasem-Bali-Twitter.jpg (deflated 1%)\n"
          ]
        }
      ]
    },
    {
      "cell_type": "markdown",
      "source": [
        "After this, we can download the zipped file from the left panel of google colab."
      ],
      "metadata": {
        "id": "ZtEGQY4d5--i"
      }
    }
  ]
}